{
 "cells": [
  {
   "cell_type": "markdown",
   "id": "79a8b52e",
   "metadata": {},
   "source": [
    "# Inferential Statistics\n",
    "\n",
    "- [References](#References)\n",
    "\n",
    "The area of statistics that deals with concepts like confidence intervals, Z-scores, statistical significance, and hypothesis testing falls under the broader field of inferential statistics, which is a major branch of mathematical statistics.\n",
    "\n",
    "**Mathematical Statistics**: This is a branch of mathematics that focuses on the theoretical foundations of statistical methods. It encompasses both descriptive statistics, which describes and summarizes data, and inferential statistics, which makes predictions or inferences about a larger population based on a sample of data.\n",
    "\n",
    "**Inferential Statistics**: This branch specifically deals with techniques that allow us to use samples to make generalizations about populations. It includes:\n",
    "- Estimation (e.g., using confidence intervals to estimate population parameters).\n",
    "- Hypothesis testing (e.g., using tests of significance to decide whether to reject or not reject a hypothesized parameter value).\n",
    "\n",
    "Inferential statistics is crucial in many fields, including social sciences, natural sciences, and economics, as it provides a mathematical basis for drawing conclusions from sample data. The concepts of confidence intervals, Z-scores, and statistical significance are fundamental tools in this area, enabling researchers to make informed judgments about the populations they study based on the data samples they have."
   ]
  },
  {
   "cell_type": "markdown",
   "id": "2fe7a5e8",
   "metadata": {},
   "source": [
    "# The concept of the Confidence Interval (CI) and the Z-score\n",
    "In probability and statistics, the concept of the Confidence Interval (CI) and the Z-score are fundamental and are often used to interpret data.\n",
    "\n",
    "## Confidence Interval (CI)\n",
    "Represents a range of values, derived from the statistics of the observed data, that is likely to contain the value of an unknown population parameter.\n",
    "It gives an estimated range of values which is likely to include an unknown parameter, the estimated range being calculated from a given set of sample data.\n",
    "\n",
    "The CI is usually expressed in terms of a percentage, typically 95% or 99%. A 95% confidence interval, for example, implies that if we were to take 100 different samples and compute a CI for each sample, then approximately 95 of the 100 CIs will contain the true population parameter.\n",
    "\n",
    "## Z-Score\n",
    "The Z-score, also known as a standard score, gives an idea of how far from the mean a data point is. More technically, it's a measure of how many standard deviations below or above the population mean a raw score is. A Z-score can be calculated from the following formula:\n",
    "\n",
    "\n",
    "$$Z=(X−μ)/σ$$\n",
    "Where:\n",
    "\n",
    "    X is a single raw data value.\n",
    "    μ is the mean of the population.\n",
    "    σ is the standard deviation of the population."
   ]
  },
  {
   "cell_type": "markdown",
   "id": "142f317b",
   "metadata": {},
   "source": [
    "## Connection Between CI and Z-Score\n",
    "In the context of a confidence interval, the Z-score is used to determine the interval around the mean of a normal distribution. For a 95% confidence interval in a standard normal distribution, the Z-scores are approximately 1.96 (or -1.96) which correspond to the 2.5th percentile and the 97.5th percentile. This means that 95% of the area under the curve falls between -1.96 and +1.96.\n",
    "\n",
    "In summary, the CI provides a range based on the sample data that likely contains the population parameter, and the Z-score helps in determining the range for a given level of confidence in a normal distribution.\n",
    "\n",
    "The choice of 95% or 99% for confidence intervals in statistical analysis is largely a matter of convention and the balance between precision and certainty. These specific percentages have been adopted over time due to their practical utility in a wide range of applications.\n",
    "\n",
    "### 95% Confidence Interval:\n",
    "- **Popularity**: The 95% confidence interval is the most commonly used. It strikes a balance between being sufficiently confident that the interval includes the true parameter and having an interval that is not too wide.\n",
    "- **Statistical Reasoning**: In a standard normal distribution, ±1.96 standard deviations from the mean covers approximately 95% of the data. This corresponds to the 95% confidence level, implying there is a 5% chance that the true parameter does not lie within this interval.\n",
    "- **Practicality**: It's a compromise between having a high level of confidence and a reasonable sample size. As confidence levels increase (e.g., to 99%), the required sample size often increases, making the study more expensive or less feasible.\n",
    "\n",
    "### 99% Confidence Interval:\n",
    "- **Higher Confidence**: When more certainty is required, a 99% confidence interval is used. This is often the case in fields where the consequences of making a wrong decision are severe, such as in medical or safety-related studies.\n",
    "- **Statistical Trade-off**: The 99% confidence interval is wider than the 95% interval. This is because to be more certain that the interval contains the true parameter, a broader range is considered. In a standard normal distribution, ±2.58 standard deviations from the mean cover approximately 99% of the data.\n",
    "- **Sample Size Consideration**: Higher confidence levels typically require larger sample sizes to achieve the same precision as lower confidence levels. This can be a limiting factor in some studies.\n",
    "\n",
    "In essence, the choice between 95% and 99% confidence levels (or other levels like 90%) depends on the researcher's willingness to accept risk (the lower the confidence level, the higher the risk that the interval does not contain the true parameter) and practical considerations like sample size and resource availability. The 95% level is often a default choice for many applications due to its balance between confidence and efficiency.\n",
    "\n",
    "\n"
   ]
  },
  {
   "cell_type": "markdown",
   "id": "dbe42386",
   "metadata": {},
   "source": [
    "## Statistical Significance\n",
    "The term \"significance\" in statistics, particularly in the context of hypothesis testing, has a specific and critical meaning. It's used to determine if the results of a study are likely due to chance or if they reflect a true effect or difference.\n",
    "\n",
    "\n",
    "### Statistical Significance:\n",
    "\n",
    "- **Definition**: Statistical significance is a determination that a relationship observed in a data set is unlikely to have occurred due to chance alone. It's a way of quantifying the strength of the evidence against a null hypothesis (which typically states that there is no effect or no difference).\n",
    "- **P-Value**: The most common measure of statistical significance is the p-value. The p-value represents the probability of observing the data, or something more extreme, assuming that the null hypothesis is true. A lower p-value suggests that the observed data are unlikely under the null hypothesis, thereby indicating that the results might be significant.\n",
    "- **Threshold (Alpha)**: The level of significance, often denoted as alpha (α), is a threshold chosen by the researcher to determine when to reject the null hypothesis. Common values for α are 0.05, 0.01, and 0.001. For instance, at an alpha level of 0.05, if the p-value is less than 0.05, the result is deemed statistically significant.\n",
    "- **Interpretation**: A statistically significant result does not imply that the finding is large, important, or practically significant. It merely indicates that the evidence is strong enough to reject the null hypothesis under the standard criteria."
   ]
  },
  {
   "cell_type": "markdown",
   "id": "1733fc15",
   "metadata": {},
   "source": [
    "\n",
    "### Practical Significance:\n",
    "\n",
    "- **Beyond P-Values**: While statistical significance is important, it's also crucial to consider the practical significance of the results. This refers to the real-world relevance or importance of the findings. A result can be statistically significant but may have a very small effect size, making it practically insignificant in real-world applications.\n",
    "- **Effect Size**: The effect size measures the magnitude of the difference or relationship. It provides context to the statistical significance, helping to determine if the finding is meaningful in a practical sense.\n",
    "\n",
    "In summary, significance in statistics primarily refers to the likelihood that the results observed are not due to chance, as measured by the p-value against a predetermined alpha level. However, understanding the practical implications of these findings is equally important, often requiring an assessment of the effect size and consideration of the broader context in which the data were collected and analyzed."
   ]
  },
  {
   "cell_type": "code",
   "execution_count": 4,
   "id": "81973605",
   "metadata": {},
   "outputs": [
    {
     "name": "stdout",
     "output_type": "stream",
     "text": [
      "[-1.41421356 -0.70710678  0.          0.70710678  1.41421356]\n"
     ]
    }
   ],
   "source": [
    "import numpy as np\n",
    "from scipy import stats\n",
    "\n",
    "data = np.array([1, 2, 3, 4, 5])\n",
    "# Calculate the Z-scores of the data\n",
    "z_scores = stats.zscore(data)\n",
    "print(z_scores)"
   ]
  },
  {
   "cell_type": "code",
   "execution_count": 2,
   "id": "4a7b4dfa",
   "metadata": {},
   "outputs": [
    {
     "name": "stdout",
     "output_type": "stream",
     "text": [
      "Mean: 3.0\n",
      "95% confidence interval: (1.614096175650322, 4.385903824349678)\n",
      "Mean: 4.0\n",
      "95% confidence interval: (0.9010248384771922, 7.098975161522808)\n"
     ]
    }
   ],
   "source": [
    "import numpy as np\n",
    "import statsmodels.api as sm\n",
    "\n",
    "def confint(data):\n",
    "    mean = np.mean(data)\n",
    "    std_error = sm.stats.DescrStatsW(data).std_mean\n",
    "    confidence_interval = sm.stats.DescrStatsW(data).zconfint_mean()\n",
    "    return mean, std_error, confidence_interval\n",
    "\n",
    "\n",
    "# Example data\n",
    "a = np.array([1, 2, 3, 4, 5])\n",
    "b = np.array([2, 10, 1, 4, 3])\n",
    "\n",
    "ma, sea, cia = confint(a)\n",
    "mb, seb, cib = confint(b)\n",
    "\n",
    "print(\"Mean:\", ma)\n",
    "print(f\"95% confidence interval: {cia}\")\n",
    "\n",
    "print(\"Mean:\", mb)\n",
    "print(f\"95% confidence interval: {cib}\")"
   ]
  },
  {
   "cell_type": "code",
   "execution_count": 56,
   "id": "ecd5ff61",
   "metadata": {},
   "outputs": [
    {
     "name": "stdout",
     "output_type": "stream",
     "text": [
      "[Random Array]: [46 97 84 18 99 27 18  8 26 33] [Nobs]: 10.0\n",
      "Mean: 45.6:45.6\n",
      "Average: 45.6 \n",
      "Std deviation: 32.85483221689011 \n",
      "Std error: 10.95161073896337 \n",
      "Confidence interval: (24.13523737892971, 67.06476262107029)\n",
      "1.96 x std dev 0.21465157048368205\n"
     ]
    }
   ],
   "source": [
    "import numpy as np\n",
    "import statsmodels.api as sm\n",
    "\n",
    "def confint(data):\n",
    "    mean = np.mean(data)\n",
    "    std_error = sm.stats.DescrStatsW(data).std_mean\n",
    "    confidence_interval = sm.stats.DescrStatsW(data).zconfint_mean()\n",
    "    return mean, std_error, confidence_interval\n",
    "\n",
    "data = np.random.randint(low=0, high=100, size=10)\n",
    "mean = np.mean(data)\n",
    "average = np.average(data)\n",
    "sd = np.std(data) #, ddof=1)\n",
    "se = sm.stats.DescrStatsW(data).std_mean\n",
    "m, se, ci =confint(data)\n",
    "print(f\"[Random Array]: {data} [Nobs]: {sm.stats.DescrStatsW(data).nobs}\")\n",
    "print(f\"Mean: {mean}:{m}\\nAverage: {average} \\nStd deviation: {sd} \\nStd error: {se} \\nConfidence interval: {ci}\")\n",
    "print(f\"1.96 x std dev {1.96 * se / 100}\")\n",
    "# print(f\"[Average]: {average}, [Mean Average]: {mean}\")\n",
    "# print(f\"[Standard Deviation]: {std_dev}\\n[Standard Error]: {std_error}\")\n",
    "# print(f\"[Sum]: {sm.stats.DescrStatsW(data).sum} [Weights]: {sm.stats.DescrStatsW(data).sum_weights}\")\n",
    "# print(f\"[Std]: {sm.stats.DescrStatsW(data).std}\")\n",
    "# print(f\"[Mean]: {sm.stats.DescrStatsW(data).mean}\")\n",
    "# print(f\"[Sum squares]: {sm.stats.DescrStatsW(data).sumsquares}\")\n",
    "# print(f\"[ttest_mean]: {sm.stats.DescrStatsW(data).ttest_mean()}\")\n",
    "# print(f\"[ztest_mean]: {sm.stats.DescrStatsW(data).ztest_mean()}\")"
   ]
  },
  {
   "cell_type": "code",
   "execution_count": 55,
   "id": "07a2d9bd",
   "metadata": {},
   "outputs": [
    {
     "name": "stdout",
     "output_type": "stream",
     "text": [
      "Random Array: [20  1 57 79 49 46 49 78 40 67]\n"
     ]
    }
   ],
   "source": [
    "# print(f\"Random Array: {np.random.rand(5)}\")\n",
    "random_array = np.random.randint(low=0, high=100, size=10)  #\n",
    "print(\"Random Array:\", random_array)"
   ]
  },
  {
   "cell_type": "markdown",
   "id": "9d62201e",
   "metadata": {},
   "source": [
    "# References\n",
    "- [Markdown](https://www.markdownguide.org/cheat-sheet/)\n",
    "- [NumPy](https://numpy.org/doc/stable/reference/generated/numpy.average.html)\n",
    "- [SciPy](https://docs.scipy.org/doc/scipy/reference/stats.html)\n",
    "- [Stats Models](https://www.statsmodels.org/stable/examples/index.html)\n",
    "- [Bokeh]()\n",
    "- [top](#Inferential-Statistics)"
   ]
  },
  {
   "cell_type": "markdown",
   "id": "2133f8b7",
   "metadata": {},
   "source": [
    "**The Cauchy-Schwarz Inequality**\n",
    "$$\\left( \\sum_{k=1}^n a_k b_k \\right)^2 \\leq \\left( \\sum_{k=1}^n a_k^2 \\right) \\left( \\sum_{k=1}^n b_k^2 \\right)$$"
   ]
  },
  {
   "cell_type": "code",
   "execution_count": null,
   "id": "2161e77f",
   "metadata": {},
   "outputs": [],
   "source": []
  }
 ],
 "metadata": {
  "kernelspec": {
   "display_name": "Python 3",
   "language": "python",
   "name": "python3"
  },
  "language_info": {
   "codemirror_mode": {
    "name": "ipython",
    "version": 3
   },
   "file_extension": ".py",
   "mimetype": "text/x-python",
   "name": "python",
   "nbconvert_exporter": "python",
   "pygments_lexer": "ipython3",
   "version": "3.6.9"
  }
 },
 "nbformat": 4,
 "nbformat_minor": 5
}

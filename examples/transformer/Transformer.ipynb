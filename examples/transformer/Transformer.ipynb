{
 "cells": [
  {
   "cell_type": "markdown",
   "id": "90ea85e1",
   "metadata": {},
   "source": [
    "# Transformer [Test]"
   ]
  },
  {
   "cell_type": "code",
   "execution_count": null,
   "id": "08985073",
   "metadata": {},
   "outputs": [],
   "source": [
    "import sys\n",
    "sys.path.insert(0, \"../\")\n",
    "import pandas as pd\n",
    "from etl.core.logger import WattleLogger\n",
    "from etl.commands.extract.pdf_papers import PDFPapers\n",
    "from etl.commands.transform.google_translator import GoogleTranslator\n",
    "from etl.commands.transform.huggingface_summariser import HuggingFaceSummariser\n",
    "\n",
    "params_str = \"\"\"\n",
    "logger:\n",
    "    name: etl.log\n",
    "    level: ERROR\n",
    "extract:\n",
    "    path: ../data\n",
    "    min_words: 10\n",
    "    max_words: 400\n",
    "    max_length: 2000\n",
    "text:\n",
    "    path: ../data\n",
    "    from_column: text\n",
    "    to_column: text-hr\n",
    "    src: en\n",
    "    dest: hr\n",
    "    min_threshold: 2\n",
    "    num_threads: 100\n",
    "summarise:\n",
    "    path: ../data\n",
    "    model1: \"sshleifer/distilbart-cnn-12-6\"\n",
    "    model2: \"google/pegasus-xsum\"\n",
    "    model: \"facebook/bart-large-cnn\"\n",
    "    from_column: text\n",
    "    to_column: summary-en\n",
    "    min_threshold: 50\n",
    "    num_threads: 50\n",
    "    num_threads: 8\n",
    "summary-en:\n",
    "    path: ../data\n",
    "    from_column: summary-en\n",
    "    to_column: summary-hr\n",
    "    src: en\n",
    "    dest: hr\n",
    "    min_threshold: 2\n",
    "    num_threads: 100\n",
    "\"\"\"\n",
    "import yaml\n",
    "name = \"../data/An-Exploratory-Study-of-Personality-Factors-Related-to-Psychological-Abuse-and-Gaslighting.csv\"\n",
    "params = yaml.safe_load(params_str)\n",
    "log = WattleLogger(params[\"logger\"])\n",
    "\n",
    "tt = PDFPapers(log, params[\"extract\"]); del tt\n",
    "tt = GoogleTranslator(log, params['text']); del tt;\n",
    "tt = HuggingFaceSummariser(log, params['summarise']); del tt;\n",
    "tt = GoogleTranslator(log, params['summary-en']); del tt;\n",
    "\n",
    "df = pd.read_csv(name)\n",
    "display( df.head(100) )\n",
    "print(\"Done.\")"
   ]
  },
  {
   "cell_type": "code",
   "execution_count": null,
   "id": "ddf789c1",
   "metadata": {},
   "outputs": [],
   "source": [
    "dfsub = df[7:len(df)]\n",
    "for n,t in enumerate( dfsub['summary-hr'].head(10), start=1):\n",
    "    print(f\"{n}. {t}\\n\")\n",
    "for n,t in enumerate( dfsub['text-hr'].head(4), start=1):\n",
    "    print(f\"{n}. {t}\\n\")"
   ]
  },
  {
   "cell_type": "code",
   "execution_count": null,
   "id": "6bd84fb8",
   "metadata": {},
   "outputs": [],
   "source": [
    "msg = lambda txt: f\"[{datetime.datetime.now()}]: {txt}\"\n",
    "def execution_time(func):\n",
    "        def wrapper(*args, **kwargs):\n",
    "            start = timeit.default_timer()\n",
    "            result = func(*args, **kwargs)\n",
    "            end = timeit.default_timer()\n",
    "            m = psutil.virtual_memory()\n",
    "            print(f\"{msg(func.__name__)} \\\n",
    "took {end-start:.2f} sec | \\\n",
    "Memory | Used: {m.used / (1024 ** 3):.2f}GB \\\n",
    "({m.percent}%) | Available: \\\n",
    "{m.available/(1024 ** 3):.2f}GB of \\\n",
    "{m.total / (1024 ** 3):.3f}GB \\\n",
    "\")\n",
    "            return result\n",
    "        return wrapper\n",
    "print(msg(\"Done.\"))"
   ]
  }
 ],
 "metadata": {
  "kernelspec": {
   "display_name": "Python 3",
   "language": "python",
   "name": "python3"
  },
  "language_info": {
   "codemirror_mode": {
    "name": "ipython",
    "version": 3
   },
   "file_extension": ".py",
   "mimetype": "text/x-python",
   "name": "python",
   "nbconvert_exporter": "python",
   "pygments_lexer": "ipython3",
   "version": "3.6.9"
  }
 },
 "nbformat": 4,
 "nbformat_minor": 5
}
